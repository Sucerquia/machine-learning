{
  "nbformat": 4,
  "nbformat_minor": 0,
  "metadata": {
    "colab": {
      "name": "Project.ipynb",
      "provenance": [],
      "authorship_tag": "ABX9TyOL2jE0ZWCAJn+qKDtcb1K7",
      "include_colab_link": true
    },
    "kernelspec": {
      "name": "python3",
      "display_name": "Python 3"
    }
  },
  "cells": [
    {
      "cell_type": "markdown",
      "metadata": {
        "id": "view-in-github",
        "colab_type": "text"
      },
      "source": [
        "<a href=\"https://colab.research.google.com/github/Sucerquia/machine-learning/blob/master/Project.ipynb\" target=\"_parent\"><img src=\"https://colab.research.google.com/assets/colab-badge.svg\" alt=\"Open In Colab\"/></a>"
      ]
    },
    {
      "cell_type": "code",
      "metadata": {
        "id": "3RafT4KSxSAt"
      },
      "source": [
        "#libraries\n",
        "import numpy as np\n",
        "import pandas as pd\n",
        "import matplotlib.pyplot as plt\n",
        "from sklearn.preprocessing import LabelEncoder\n",
        "\n",
        "\n",
        "#get the training set and the test set\n",
        "def split_train_test(data, test_ratio):\n",
        "  shuffled_indices = np.random.permutation(len(data))\n",
        "  test_set_size = int(len(data) * test_ratio)\n",
        "  test_indices = shuffled_indices[:test_set_size]\n",
        "  train_indices = shuffled_indices[test_set_size:]\n",
        "  return data.iloc[train_indices], data.iloc[test_indices]"
      ],
      "execution_count": 1,
      "outputs": []
    },
    {
      "cell_type": "code",
      "metadata": {
        "id": "pB1W8Yk2OcRy",
        "colab": {
          "base_uri": "https://localhost:8080/",
          "height": 305
        },
        "outputId": "0b534c4e-d2e3-45f2-bf46-63d96cc91482"
      },
      "source": [
        "#import the data base from the github repository\n",
        "url = \"https://raw.githubusercontent.com/Sucerquia/machine-learning/master/Incidentes_georreferenciados_2019.csv\"\n",
        "info = pd.read_csv(url)\n",
        "\n",
        "#we show the data complete\n",
        "info.head()"
      ],
      "execution_count": 2,
      "outputs": [
        {
          "output_type": "execute_result",
          "data": {
            "text/html": [
              "<div>\n",
              "<style scoped>\n",
              "    .dataframe tbody tr th:only-of-type {\n",
              "        vertical-align: middle;\n",
              "    }\n",
              "\n",
              "    .dataframe tbody tr th {\n",
              "        vertical-align: top;\n",
              "    }\n",
              "\n",
              "    .dataframe thead th {\n",
              "        text-align: right;\n",
              "    }\n",
              "</style>\n",
              "<table border=\"1\" class=\"dataframe\">\n",
              "  <thead>\n",
              "    <tr style=\"text-align: right;\">\n",
              "      <th></th>\n",
              "      <th>OBJECTID</th>\n",
              "      <th>RADICADO</th>\n",
              "      <th>HORA</th>\n",
              "      <th>DIA</th>\n",
              "      <th>PERIODO</th>\n",
              "      <th>CLASE</th>\n",
              "      <th>DIRECCION_ENC</th>\n",
              "      <th>TIPO_GEOCOD</th>\n",
              "      <th>GRAVEDAD</th>\n",
              "      <th>BARRIO</th>\n",
              "      <th>COMUNA</th>\n",
              "      <th>DISENO</th>\n",
              "      <th>DIA_NOMBRE</th>\n",
              "      <th>MES</th>\n",
              "      <th>MES_NOMBRE</th>\n",
              "      <th>X_MAGNAMED</th>\n",
              "      <th>Y_MAGNAMED</th>\n",
              "      <th>LONGITUD</th>\n",
              "      <th>LATITUD</th>\n",
              "    </tr>\n",
              "  </thead>\n",
              "  <tbody>\n",
              "    <tr>\n",
              "      <th>0</th>\n",
              "      <td>790144</td>\n",
              "      <td>1717722</td>\n",
              "      <td>01:35:00</td>\n",
              "      <td>1</td>\n",
              "      <td>2020</td>\n",
              "      <td>Choque</td>\n",
              "      <td>CL  010 A   041  000 00000</td>\n",
              "      <td>Malla vial</td>\n",
              "      <td>CON HERIDOS</td>\n",
              "      <td>El Poblado</td>\n",
              "      <td>El Poblado</td>\n",
              "      <td>Tramo de via</td>\n",
              "      <td>MIÉRCOLES</td>\n",
              "      <td>7</td>\n",
              "      <td>JULIO</td>\n",
              "      <td>834977.94</td>\n",
              "      <td>1178769.85</td>\n",
              "      <td>-75.568507</td>\n",
              "      <td>6.210703</td>\n",
              "    </tr>\n",
              "    <tr>\n",
              "      <th>1</th>\n",
              "      <td>790145</td>\n",
              "      <td>1714151</td>\n",
              "      <td>11:30:00</td>\n",
              "      <td>8</td>\n",
              "      <td>2020</td>\n",
              "      <td>Choque</td>\n",
              "      <td>CR  038   049 A  000 00000</td>\n",
              "      <td>Malla vial</td>\n",
              "      <td>SOLO DAÑOS</td>\n",
              "      <td>Boston</td>\n",
              "      <td>La Candelaria</td>\n",
              "      <td>Tramo de via</td>\n",
              "      <td>VIERNES</td>\n",
              "      <td>5</td>\n",
              "      <td>MAYO</td>\n",
              "      <td>836034.83</td>\n",
              "      <td>1182513.26</td>\n",
              "      <td>-75.558959</td>\n",
              "      <td>6.244545</td>\n",
              "    </tr>\n",
              "    <tr>\n",
              "      <th>2</th>\n",
              "      <td>790146</td>\n",
              "      <td>1727015</td>\n",
              "      <td>08:25:00</td>\n",
              "      <td>19</td>\n",
              "      <td>2020</td>\n",
              "      <td>Otro</td>\n",
              "      <td>CR  057   051  000 00000</td>\n",
              "      <td>Malla vial</td>\n",
              "      <td>SOLO DAÑOS</td>\n",
              "      <td>San Benito</td>\n",
              "      <td>La Candelaria</td>\n",
              "      <td>Tramo de via</td>\n",
              "      <td>LUNES</td>\n",
              "      <td>10</td>\n",
              "      <td>OCTUBRE</td>\n",
              "      <td>834254.74</td>\n",
              "      <td>1183457.46</td>\n",
              "      <td>-75.575041</td>\n",
              "      <td>6.253081</td>\n",
              "    </tr>\n",
              "    <tr>\n",
              "      <th>3</th>\n",
              "      <td>790147</td>\n",
              "      <td>1718974</td>\n",
              "      <td>06:30:00</td>\n",
              "      <td>15</td>\n",
              "      <td>2020</td>\n",
              "      <td>Choque</td>\n",
              "      <td>CL  005   047  000 00000</td>\n",
              "      <td>No Ubicada</td>\n",
              "      <td>CON HERIDOS</td>\n",
              "      <td>Sin Inf</td>\n",
              "      <td>Sin Inf</td>\n",
              "      <td>Interseccion</td>\n",
              "      <td>MIÉRCOLES</td>\n",
              "      <td>7</td>\n",
              "      <td>JULIO</td>\n",
              "      <td>820000.00</td>\n",
              "      <td>1180000.00</td>\n",
              "      <td>-75.703816</td>\n",
              "      <td>6.221806</td>\n",
              "    </tr>\n",
              "    <tr>\n",
              "      <th>4</th>\n",
              "      <td>790148</td>\n",
              "      <td>1712988</td>\n",
              "      <td>02:00:00</td>\n",
              "      <td>5</td>\n",
              "      <td>2020</td>\n",
              "      <td>Choque</td>\n",
              "      <td>CR  062   050  000 00000</td>\n",
              "      <td>Malla vial</td>\n",
              "      <td>CON HERIDOS</td>\n",
              "      <td>San Benito</td>\n",
              "      <td>La Candelaria</td>\n",
              "      <td>Tramo de via</td>\n",
              "      <td>DOMINGO</td>\n",
              "      <td>4</td>\n",
              "      <td>ABRIL</td>\n",
              "      <td>834101.73</td>\n",
              "      <td>1183542.28</td>\n",
              "      <td>-75.576423</td>\n",
              "      <td>6.253848</td>\n",
              "    </tr>\n",
              "  </tbody>\n",
              "</table>\n",
              "</div>"
            ],
            "text/plain": [
              "   OBJECTID  RADICADO      HORA  ...  Y_MAGNAMED   LONGITUD   LATITUD\n",
              "0    790144   1717722  01:35:00  ...  1178769.85 -75.568507  6.210703\n",
              "1    790145   1714151  11:30:00  ...  1182513.26 -75.558959  6.244545\n",
              "2    790146   1727015  08:25:00  ...  1183457.46 -75.575041  6.253081\n",
              "3    790147   1718974  06:30:00  ...  1180000.00 -75.703816  6.221806\n",
              "4    790148   1712988  02:00:00  ...  1183542.28 -75.576423  6.253848\n",
              "\n",
              "[5 rows x 19 columns]"
            ]
          },
          "metadata": {
            "tags": []
          },
          "execution_count": 2
        }
      ]
    },
    {
      "cell_type": "markdown",
      "metadata": {
        "id": "t_9GSYVrs2g0"
      },
      "source": [
        "Es claro que hay datos que no son relevantes como el número del radicado o el tipo de geolocalización, por esa razón, es necesario hacer una limpieza de la base de datos en la que sólo queden los datos relevantes, como sigue"
      ]
    },
    {
      "cell_type": "code",
      "metadata": {
        "id": "gysN72hItKrN",
        "outputId": "40385a8c-ea66-4f49-9d9e-066d4c8742cf",
        "colab": {
          "base_uri": "https://localhost:8080/",
          "height": 198
        }
      },
      "source": [
        "clean = [\"CLASE\", \"OBJECTID\",\t\"RADICADO\",\t\"PERIODO\", \"DIRECCION_ENC\", \"TIPO_GEOCOD\", \"DISENO\", \"X_MAGNAMED\", \"Y_MAGNAMED\", \"BARRIO\", \"COMUNA\", \"MES_NOMBRE\"]\n",
        "for char in clean:\n",
        "  info = info.drop(char, axis = 1)\n",
        "info.head()"
      ],
      "execution_count": 3,
      "outputs": [
        {
          "output_type": "execute_result",
          "data": {
            "text/html": [
              "<div>\n",
              "<style scoped>\n",
              "    .dataframe tbody tr th:only-of-type {\n",
              "        vertical-align: middle;\n",
              "    }\n",
              "\n",
              "    .dataframe tbody tr th {\n",
              "        vertical-align: top;\n",
              "    }\n",
              "\n",
              "    .dataframe thead th {\n",
              "        text-align: right;\n",
              "    }\n",
              "</style>\n",
              "<table border=\"1\" class=\"dataframe\">\n",
              "  <thead>\n",
              "    <tr style=\"text-align: right;\">\n",
              "      <th></th>\n",
              "      <th>HORA</th>\n",
              "      <th>DIA</th>\n",
              "      <th>GRAVEDAD</th>\n",
              "      <th>DIA_NOMBRE</th>\n",
              "      <th>MES</th>\n",
              "      <th>LONGITUD</th>\n",
              "      <th>LATITUD</th>\n",
              "    </tr>\n",
              "  </thead>\n",
              "  <tbody>\n",
              "    <tr>\n",
              "      <th>0</th>\n",
              "      <td>01:35:00</td>\n",
              "      <td>1</td>\n",
              "      <td>CON HERIDOS</td>\n",
              "      <td>MIÉRCOLES</td>\n",
              "      <td>7</td>\n",
              "      <td>-75.568507</td>\n",
              "      <td>6.210703</td>\n",
              "    </tr>\n",
              "    <tr>\n",
              "      <th>1</th>\n",
              "      <td>11:30:00</td>\n",
              "      <td>8</td>\n",
              "      <td>SOLO DAÑOS</td>\n",
              "      <td>VIERNES</td>\n",
              "      <td>5</td>\n",
              "      <td>-75.558959</td>\n",
              "      <td>6.244545</td>\n",
              "    </tr>\n",
              "    <tr>\n",
              "      <th>2</th>\n",
              "      <td>08:25:00</td>\n",
              "      <td>19</td>\n",
              "      <td>SOLO DAÑOS</td>\n",
              "      <td>LUNES</td>\n",
              "      <td>10</td>\n",
              "      <td>-75.575041</td>\n",
              "      <td>6.253081</td>\n",
              "    </tr>\n",
              "    <tr>\n",
              "      <th>3</th>\n",
              "      <td>06:30:00</td>\n",
              "      <td>15</td>\n",
              "      <td>CON HERIDOS</td>\n",
              "      <td>MIÉRCOLES</td>\n",
              "      <td>7</td>\n",
              "      <td>-75.703816</td>\n",
              "      <td>6.221806</td>\n",
              "    </tr>\n",
              "    <tr>\n",
              "      <th>4</th>\n",
              "      <td>02:00:00</td>\n",
              "      <td>5</td>\n",
              "      <td>CON HERIDOS</td>\n",
              "      <td>DOMINGO</td>\n",
              "      <td>4</td>\n",
              "      <td>-75.576423</td>\n",
              "      <td>6.253848</td>\n",
              "    </tr>\n",
              "  </tbody>\n",
              "</table>\n",
              "</div>"
            ],
            "text/plain": [
              "       HORA  DIA     GRAVEDAD DIA_NOMBRE  MES   LONGITUD   LATITUD\n",
              "0  01:35:00    1  CON HERIDOS  MIÉRCOLES    7 -75.568507  6.210703\n",
              "1  11:30:00    8   SOLO DAÑOS  VIERNES      5 -75.558959  6.244545\n",
              "2  08:25:00   19   SOLO DAÑOS  LUNES       10 -75.575041  6.253081\n",
              "3  06:30:00   15  CON HERIDOS  MIÉRCOLES    7 -75.703816  6.221806\n",
              "4  02:00:00    5  CON HERIDOS  DOMINGO      4 -75.576423  6.253848"
            ]
          },
          "metadata": {
            "tags": []
          },
          "execution_count": 3
        }
      ]
    },
    {
      "cell_type": "markdown",
      "metadata": {
        "id": "xwXEiGli7vUV"
      },
      "source": [
        "Otro factor imporante es considerar que, dado que nuestro proceso de aprendizaje en las redes neuronales se da para números y no para caracteres, se hace necesario cambiar por ejemplo cambiar las caracteristicas por cantidades numéricas."
      ]
    },
    {
      "cell_type": "code",
      "metadata": {
        "id": "b-AZUE8AA90U",
        "outputId": "20f38787-9532-4e9e-a7c9-de90df405cf3",
        "colab": {
          "base_uri": "https://localhost:8080/",
          "height": 489
        }
      },
      "source": [
        "for x in range(len(info[\"GRAVEDAD\"])):\n",
        "  if info[\"GRAVEDAD\"][x] == 'SOLO DAÑOS':\n",
        "    info[\"GRAVEDAD\"][x] = 'ASOLO DAÑOS'\n",
        "  if info[\"GRAVEDAD\"][x] == 'CON HERIDOS':\n",
        "    info[\"GRAVEDAD\"][x] = 'BCON HERIDOS'\n",
        "  if info[\"GRAVEDAD\"][x] == 'CON MUERTOS':\n",
        "    info[\"GRAVEDAD\"][x] = 'CCON MUERTOS'\n",
        "#We change the cualitative values by numbers\n",
        "encoder = LabelEncoder()\n",
        "encoder.classes_ = ['SOLO DAÑOS', 'CON HERIDOS', 'CON MUERTOS']\n",
        "info[\"GRAVEDAD\"] = encoder.fit_transform(info[\"GRAVEDAD\"])\n",
        "print(encoder.classes_)\n",
        "info.head()"
      ],
      "execution_count": 4,
      "outputs": [
        {
          "output_type": "stream",
          "text": [
            "/usr/local/lib/python3.6/dist-packages/ipykernel_launcher.py:5: SettingWithCopyWarning: \n",
            "A value is trying to be set on a copy of a slice from a DataFrame\n",
            "\n",
            "See the caveats in the documentation: https://pandas.pydata.org/pandas-docs/stable/user_guide/indexing.html#returning-a-view-versus-a-copy\n",
            "  \"\"\"\n",
            "/usr/local/lib/python3.6/dist-packages/ipykernel_launcher.py:3: SettingWithCopyWarning: \n",
            "A value is trying to be set on a copy of a slice from a DataFrame\n",
            "\n",
            "See the caveats in the documentation: https://pandas.pydata.org/pandas-docs/stable/user_guide/indexing.html#returning-a-view-versus-a-copy\n",
            "  This is separate from the ipykernel package so we can avoid doing imports until\n",
            "/usr/local/lib/python3.6/dist-packages/ipykernel_launcher.py:7: SettingWithCopyWarning: \n",
            "A value is trying to be set on a copy of a slice from a DataFrame\n",
            "\n",
            "See the caveats in the documentation: https://pandas.pydata.org/pandas-docs/stable/user_guide/indexing.html#returning-a-view-versus-a-copy\n",
            "  import sys\n"
          ],
          "name": "stderr"
        },
        {
          "output_type": "stream",
          "text": [
            "['ASOLO DAÑOS' 'BCON HERIDOS' 'CCON MUERTOS']\n"
          ],
          "name": "stdout"
        },
        {
          "output_type": "execute_result",
          "data": {
            "text/html": [
              "<div>\n",
              "<style scoped>\n",
              "    .dataframe tbody tr th:only-of-type {\n",
              "        vertical-align: middle;\n",
              "    }\n",
              "\n",
              "    .dataframe tbody tr th {\n",
              "        vertical-align: top;\n",
              "    }\n",
              "\n",
              "    .dataframe thead th {\n",
              "        text-align: right;\n",
              "    }\n",
              "</style>\n",
              "<table border=\"1\" class=\"dataframe\">\n",
              "  <thead>\n",
              "    <tr style=\"text-align: right;\">\n",
              "      <th></th>\n",
              "      <th>HORA</th>\n",
              "      <th>DIA</th>\n",
              "      <th>GRAVEDAD</th>\n",
              "      <th>DIA_NOMBRE</th>\n",
              "      <th>MES</th>\n",
              "      <th>LONGITUD</th>\n",
              "      <th>LATITUD</th>\n",
              "    </tr>\n",
              "  </thead>\n",
              "  <tbody>\n",
              "    <tr>\n",
              "      <th>0</th>\n",
              "      <td>01:35:00</td>\n",
              "      <td>1</td>\n",
              "      <td>1</td>\n",
              "      <td>MIÉRCOLES</td>\n",
              "      <td>7</td>\n",
              "      <td>-75.568507</td>\n",
              "      <td>6.210703</td>\n",
              "    </tr>\n",
              "    <tr>\n",
              "      <th>1</th>\n",
              "      <td>11:30:00</td>\n",
              "      <td>8</td>\n",
              "      <td>0</td>\n",
              "      <td>VIERNES</td>\n",
              "      <td>5</td>\n",
              "      <td>-75.558959</td>\n",
              "      <td>6.244545</td>\n",
              "    </tr>\n",
              "    <tr>\n",
              "      <th>2</th>\n",
              "      <td>08:25:00</td>\n",
              "      <td>19</td>\n",
              "      <td>0</td>\n",
              "      <td>LUNES</td>\n",
              "      <td>10</td>\n",
              "      <td>-75.575041</td>\n",
              "      <td>6.253081</td>\n",
              "    </tr>\n",
              "    <tr>\n",
              "      <th>3</th>\n",
              "      <td>06:30:00</td>\n",
              "      <td>15</td>\n",
              "      <td>1</td>\n",
              "      <td>MIÉRCOLES</td>\n",
              "      <td>7</td>\n",
              "      <td>-75.703816</td>\n",
              "      <td>6.221806</td>\n",
              "    </tr>\n",
              "    <tr>\n",
              "      <th>4</th>\n",
              "      <td>02:00:00</td>\n",
              "      <td>5</td>\n",
              "      <td>1</td>\n",
              "      <td>DOMINGO</td>\n",
              "      <td>4</td>\n",
              "      <td>-75.576423</td>\n",
              "      <td>6.253848</td>\n",
              "    </tr>\n",
              "  </tbody>\n",
              "</table>\n",
              "</div>"
            ],
            "text/plain": [
              "       HORA  DIA  GRAVEDAD DIA_NOMBRE  MES   LONGITUD   LATITUD\n",
              "0  01:35:00    1         1  MIÉRCOLES    7 -75.568507  6.210703\n",
              "1  11:30:00    8         0  VIERNES      5 -75.558959  6.244545\n",
              "2  08:25:00   19         0  LUNES       10 -75.575041  6.253081\n",
              "3  06:30:00   15         1  MIÉRCOLES    7 -75.703816  6.221806\n",
              "4  02:00:00    5         1  DOMINGO      4 -75.576423  6.253848"
            ]
          },
          "metadata": {
            "tags": []
          },
          "execution_count": 4
        }
      ]
    },
    {
      "cell_type": "code",
      "metadata": {
        "id": "BB7j-VfRIhKY",
        "outputId": "bc904a40-1449-49db-9c5d-73b7c8a68c59",
        "colab": {
          "base_uri": "https://localhost:8080/",
          "height": 853
        }
      },
      "source": [
        "for x in range(len(info[\"DIA_NOMBRE\"])):\n",
        "  if info[\"DIA_NOMBRE\"][x] == 'LUNES    ':\n",
        "    info[\"DIA_NOMBRE\"][x] = 'ALUNES'\n",
        "  if info[\"DIA_NOMBRE\"][x] == 'MARTES   ':\n",
        "    info[\"DIA_NOMBRE\"][x] = 'BMARTES'\n",
        "  if info[\"DIA_NOMBRE\"][x] == 'MIÉRCOLES':\n",
        "    info[\"DIA_NOMBRE\"][x] = 'CMIÉRCOLES'\n",
        "  if info[\"DIA_NOMBRE\"][x] == 'JUEVES   ':\n",
        "    info[\"DIA_NOMBRE\"][x] = 'DJUEVES'\n",
        "  if info[\"DIA_NOMBRE\"][x] == 'VIERNES  ':\n",
        "    info[\"DIA_NOMBRE\"][x] = 'EVIERNES'\n",
        "  if info[\"DIA_NOMBRE\"][x] == 'SÁBADO   ':\n",
        "    info[\"DIA_NOMBRE\"][x] = 'FSABADO'\n",
        "  if info[\"DIA_NOMBRE\"][x] == 'DOMINGO  ':\n",
        "    info[\"DIA_NOMBRE\"][x] = 'GDOMINGO'\n",
        "#We change the cualitative values by numbers\n",
        "encoder2 = LabelEncoder()\n",
        "info[\"DIA_NOMBRE\"] = encoder2.fit_transform(info[\"DIA_NOMBRE\"])\n",
        "print(encoder2.classes_)\n",
        "info.head()"
      ],
      "execution_count": 5,
      "outputs": [
        {
          "output_type": "stream",
          "text": [
            "/usr/local/lib/python3.6/dist-packages/ipykernel_launcher.py:7: SettingWithCopyWarning: \n",
            "A value is trying to be set on a copy of a slice from a DataFrame\n",
            "\n",
            "See the caveats in the documentation: https://pandas.pydata.org/pandas-docs/stable/user_guide/indexing.html#returning-a-view-versus-a-copy\n",
            "  import sys\n",
            "/usr/local/lib/python3.6/dist-packages/ipykernel_launcher.py:11: SettingWithCopyWarning: \n",
            "A value is trying to be set on a copy of a slice from a DataFrame\n",
            "\n",
            "See the caveats in the documentation: https://pandas.pydata.org/pandas-docs/stable/user_guide/indexing.html#returning-a-view-versus-a-copy\n",
            "  # This is added back by InteractiveShellApp.init_path()\n",
            "/usr/local/lib/python3.6/dist-packages/ipykernel_launcher.py:3: SettingWithCopyWarning: \n",
            "A value is trying to be set on a copy of a slice from a DataFrame\n",
            "\n",
            "See the caveats in the documentation: https://pandas.pydata.org/pandas-docs/stable/user_guide/indexing.html#returning-a-view-versus-a-copy\n",
            "  This is separate from the ipykernel package so we can avoid doing imports until\n",
            "/usr/local/lib/python3.6/dist-packages/ipykernel_launcher.py:15: SettingWithCopyWarning: \n",
            "A value is trying to be set on a copy of a slice from a DataFrame\n",
            "\n",
            "See the caveats in the documentation: https://pandas.pydata.org/pandas-docs/stable/user_guide/indexing.html#returning-a-view-versus-a-copy\n",
            "  from ipykernel import kernelapp as app\n",
            "/usr/local/lib/python3.6/dist-packages/ipykernel_launcher.py:9: SettingWithCopyWarning: \n",
            "A value is trying to be set on a copy of a slice from a DataFrame\n",
            "\n",
            "See the caveats in the documentation: https://pandas.pydata.org/pandas-docs/stable/user_guide/indexing.html#returning-a-view-versus-a-copy\n",
            "  if __name__ == '__main__':\n",
            "/usr/local/lib/python3.6/dist-packages/ipykernel_launcher.py:5: SettingWithCopyWarning: \n",
            "A value is trying to be set on a copy of a slice from a DataFrame\n",
            "\n",
            "See the caveats in the documentation: https://pandas.pydata.org/pandas-docs/stable/user_guide/indexing.html#returning-a-view-versus-a-copy\n",
            "  \"\"\"\n",
            "/usr/local/lib/python3.6/dist-packages/ipykernel_launcher.py:13: SettingWithCopyWarning: \n",
            "A value is trying to be set on a copy of a slice from a DataFrame\n",
            "\n",
            "See the caveats in the documentation: https://pandas.pydata.org/pandas-docs/stable/user_guide/indexing.html#returning-a-view-versus-a-copy\n",
            "  del sys.path[0]\n"
          ],
          "name": "stderr"
        },
        {
          "output_type": "stream",
          "text": [
            "['ALUNES' 'BMARTES' 'CMIÉRCOLES' 'DJUEVES' 'EVIERNES' 'FSABADO' 'GDOMINGO']\n"
          ],
          "name": "stdout"
        },
        {
          "output_type": "execute_result",
          "data": {
            "text/html": [
              "<div>\n",
              "<style scoped>\n",
              "    .dataframe tbody tr th:only-of-type {\n",
              "        vertical-align: middle;\n",
              "    }\n",
              "\n",
              "    .dataframe tbody tr th {\n",
              "        vertical-align: top;\n",
              "    }\n",
              "\n",
              "    .dataframe thead th {\n",
              "        text-align: right;\n",
              "    }\n",
              "</style>\n",
              "<table border=\"1\" class=\"dataframe\">\n",
              "  <thead>\n",
              "    <tr style=\"text-align: right;\">\n",
              "      <th></th>\n",
              "      <th>HORA</th>\n",
              "      <th>DIA</th>\n",
              "      <th>GRAVEDAD</th>\n",
              "      <th>DIA_NOMBRE</th>\n",
              "      <th>MES</th>\n",
              "      <th>LONGITUD</th>\n",
              "      <th>LATITUD</th>\n",
              "    </tr>\n",
              "  </thead>\n",
              "  <tbody>\n",
              "    <tr>\n",
              "      <th>0</th>\n",
              "      <td>01:35:00</td>\n",
              "      <td>1</td>\n",
              "      <td>1</td>\n",
              "      <td>2</td>\n",
              "      <td>7</td>\n",
              "      <td>-75.568507</td>\n",
              "      <td>6.210703</td>\n",
              "    </tr>\n",
              "    <tr>\n",
              "      <th>1</th>\n",
              "      <td>11:30:00</td>\n",
              "      <td>8</td>\n",
              "      <td>0</td>\n",
              "      <td>4</td>\n",
              "      <td>5</td>\n",
              "      <td>-75.558959</td>\n",
              "      <td>6.244545</td>\n",
              "    </tr>\n",
              "    <tr>\n",
              "      <th>2</th>\n",
              "      <td>08:25:00</td>\n",
              "      <td>19</td>\n",
              "      <td>0</td>\n",
              "      <td>0</td>\n",
              "      <td>10</td>\n",
              "      <td>-75.575041</td>\n",
              "      <td>6.253081</td>\n",
              "    </tr>\n",
              "    <tr>\n",
              "      <th>3</th>\n",
              "      <td>06:30:00</td>\n",
              "      <td>15</td>\n",
              "      <td>1</td>\n",
              "      <td>2</td>\n",
              "      <td>7</td>\n",
              "      <td>-75.703816</td>\n",
              "      <td>6.221806</td>\n",
              "    </tr>\n",
              "    <tr>\n",
              "      <th>4</th>\n",
              "      <td>02:00:00</td>\n",
              "      <td>5</td>\n",
              "      <td>1</td>\n",
              "      <td>6</td>\n",
              "      <td>4</td>\n",
              "      <td>-75.576423</td>\n",
              "      <td>6.253848</td>\n",
              "    </tr>\n",
              "  </tbody>\n",
              "</table>\n",
              "</div>"
            ],
            "text/plain": [
              "       HORA  DIA  GRAVEDAD  DIA_NOMBRE  MES   LONGITUD   LATITUD\n",
              "0  01:35:00    1         1           2    7 -75.568507  6.210703\n",
              "1  11:30:00    8         0           4    5 -75.558959  6.244545\n",
              "2  08:25:00   19         0           0   10 -75.575041  6.253081\n",
              "3  06:30:00   15         1           2    7 -75.703816  6.221806\n",
              "4  02:00:00    5         1           6    4 -75.576423  6.253848"
            ]
          },
          "metadata": {
            "tags": []
          },
          "execution_count": 5
        }
      ]
    },
    {
      "cell_type": "code",
      "metadata": {
        "id": "PnUev0_WHSD-",
        "outputId": "00d21245-d138-40c3-d1fa-abf63f86ddf6",
        "colab": {
          "base_uri": "https://localhost:8080/",
          "height": 198
        }
      },
      "source": [
        "info[\"HORA\"] = [int(k[:2]) for k in info[\"HORA\"]]\n",
        "info.head()"
      ],
      "execution_count": 6,
      "outputs": [
        {
          "output_type": "execute_result",
          "data": {
            "text/html": [
              "<div>\n",
              "<style scoped>\n",
              "    .dataframe tbody tr th:only-of-type {\n",
              "        vertical-align: middle;\n",
              "    }\n",
              "\n",
              "    .dataframe tbody tr th {\n",
              "        vertical-align: top;\n",
              "    }\n",
              "\n",
              "    .dataframe thead th {\n",
              "        text-align: right;\n",
              "    }\n",
              "</style>\n",
              "<table border=\"1\" class=\"dataframe\">\n",
              "  <thead>\n",
              "    <tr style=\"text-align: right;\">\n",
              "      <th></th>\n",
              "      <th>HORA</th>\n",
              "      <th>DIA</th>\n",
              "      <th>GRAVEDAD</th>\n",
              "      <th>DIA_NOMBRE</th>\n",
              "      <th>MES</th>\n",
              "      <th>LONGITUD</th>\n",
              "      <th>LATITUD</th>\n",
              "    </tr>\n",
              "  </thead>\n",
              "  <tbody>\n",
              "    <tr>\n",
              "      <th>0</th>\n",
              "      <td>1</td>\n",
              "      <td>1</td>\n",
              "      <td>1</td>\n",
              "      <td>2</td>\n",
              "      <td>7</td>\n",
              "      <td>-75.568507</td>\n",
              "      <td>6.210703</td>\n",
              "    </tr>\n",
              "    <tr>\n",
              "      <th>1</th>\n",
              "      <td>11</td>\n",
              "      <td>8</td>\n",
              "      <td>0</td>\n",
              "      <td>4</td>\n",
              "      <td>5</td>\n",
              "      <td>-75.558959</td>\n",
              "      <td>6.244545</td>\n",
              "    </tr>\n",
              "    <tr>\n",
              "      <th>2</th>\n",
              "      <td>8</td>\n",
              "      <td>19</td>\n",
              "      <td>0</td>\n",
              "      <td>0</td>\n",
              "      <td>10</td>\n",
              "      <td>-75.575041</td>\n",
              "      <td>6.253081</td>\n",
              "    </tr>\n",
              "    <tr>\n",
              "      <th>3</th>\n",
              "      <td>6</td>\n",
              "      <td>15</td>\n",
              "      <td>1</td>\n",
              "      <td>2</td>\n",
              "      <td>7</td>\n",
              "      <td>-75.703816</td>\n",
              "      <td>6.221806</td>\n",
              "    </tr>\n",
              "    <tr>\n",
              "      <th>4</th>\n",
              "      <td>2</td>\n",
              "      <td>5</td>\n",
              "      <td>1</td>\n",
              "      <td>6</td>\n",
              "      <td>4</td>\n",
              "      <td>-75.576423</td>\n",
              "      <td>6.253848</td>\n",
              "    </tr>\n",
              "  </tbody>\n",
              "</table>\n",
              "</div>"
            ],
            "text/plain": [
              "   HORA  DIA  GRAVEDAD  DIA_NOMBRE  MES   LONGITUD   LATITUD\n",
              "0     1    1         1           2    7 -75.568507  6.210703\n",
              "1    11    8         0           4    5 -75.558959  6.244545\n",
              "2     8   19         0           0   10 -75.575041  6.253081\n",
              "3     6   15         1           2    7 -75.703816  6.221806\n",
              "4     2    5         1           6    4 -75.576423  6.253848"
            ]
          },
          "metadata": {
            "tags": []
          },
          "execution_count": 6
        }
      ]
    },
    {
      "cell_type": "markdown",
      "metadata": {
        "id": "RwvciGJ-tVC6"
      },
      "source": [
        "Además, es necesario verificar que los datos corresponden efectivamente a datos dentro de la ciudad de medellín, que como se ve a continuación, no es el caso para esta base de datos, para lo cual se hace necesario quitar los valores que no corresponden o están dañados."
      ]
    },
    {
      "cell_type": "code",
      "metadata": {
        "id": "q4zUWhdCtUmK",
        "outputId": "be653866-df1a-4079-b085-252ac632379f",
        "colab": {
          "base_uri": "https://localhost:8080/",
          "height": 650
        }
      },
      "source": [
        "info.plot(kind=\"scatter\", x=\"LONGITUD\", y=\"LATITUD\", figsize = (15,10))\n",
        "plt.title(\"Puntos de la base de datos\", fontsize = 20)\n",
        "plt.ylabel(\"latitud\", fontsize = 15)\n",
        "plt.xlabel(\"longitud\", fontsize = 15)"
      ],
      "execution_count": 7,
      "outputs": [
        {
          "output_type": "execute_result",
          "data": {
            "text/plain": [
              "Text(0.5, 0, 'longitud')"
            ]
          },
          "metadata": {
            "tags": []
          },
          "execution_count": 7
        },
        {
          "output_type": "display_data",
          "data": {
            "image/png": "[encoded data removed]",
            "text/plain": [
              "<Figure size 1080x720 with 1 Axes>"
            ]
          },
          "metadata": {
            "tags": [],
            "needs_background": "light"
          }
        }
      ]
    },
    {
      "cell_type": "markdown",
      "metadata": {
        "id": "bbPq5lymztK8"
      },
      "source": [
        "![picture](https://drive.google.com/uc?id=1fy6b9RXcjqr4SzM5LDAv-LmX-5YtgRJy)"
      ]
    },
    {
      "cell_type": "markdown",
      "metadata": {
        "id": "RutB_Zea7Rit"
      },
      "source": [
        "De manera que se verifica que la información que se encuentra en estros datos debe ser descartada porque son errores en su creación. y se procede a eliminarlos"
      ]
    },
    {
      "cell_type": "code",
      "metadata": {
        "id": "KbF15BeRXKuw",
        "outputId": "91799a8d-3365-4e6a-89a3-c39f0c60f9c9",
        "colab": {
          "base_uri": "https://localhost:8080/",
          "height": 407
        }
      },
      "source": [
        "info.iloc[np.where(info[\"LATITUD\"]==info[\"LATITUD\"].min())[0].tolist()]"
      ],
      "execution_count": 8,
      "outputs": [
        {
          "output_type": "execute_result",
          "data": {
            "text/html": [
              "<div>\n",
              "<style scoped>\n",
              "    .dataframe tbody tr th:only-of-type {\n",
              "        vertical-align: middle;\n",
              "    }\n",
              "\n",
              "    .dataframe tbody tr th {\n",
              "        vertical-align: top;\n",
              "    }\n",
              "\n",
              "    .dataframe thead th {\n",
              "        text-align: right;\n",
              "    }\n",
              "</style>\n",
              "<table border=\"1\" class=\"dataframe\">\n",
              "  <thead>\n",
              "    <tr style=\"text-align: right;\">\n",
              "      <th></th>\n",
              "      <th>HORA</th>\n",
              "      <th>DIA</th>\n",
              "      <th>GRAVEDAD</th>\n",
              "      <th>DIA_NOMBRE</th>\n",
              "      <th>MES</th>\n",
              "      <th>LONGITUD</th>\n",
              "      <th>LATITUD</th>\n",
              "    </tr>\n",
              "  </thead>\n",
              "  <tbody>\n",
              "    <tr>\n",
              "      <th>188</th>\n",
              "      <td>7</td>\n",
              "      <td>13</td>\n",
              "      <td>1</td>\n",
              "      <td>6</td>\n",
              "      <td>9</td>\n",
              "      <td>-75.703675</td>\n",
              "      <td>5.661296</td>\n",
              "    </tr>\n",
              "    <tr>\n",
              "      <th>200</th>\n",
              "      <td>5</td>\n",
              "      <td>9</td>\n",
              "      <td>1</td>\n",
              "      <td>4</td>\n",
              "      <td>10</td>\n",
              "      <td>-75.703675</td>\n",
              "      <td>5.661296</td>\n",
              "    </tr>\n",
              "    <tr>\n",
              "      <th>206</th>\n",
              "      <td>6</td>\n",
              "      <td>4</td>\n",
              "      <td>0</td>\n",
              "      <td>6</td>\n",
              "      <td>10</td>\n",
              "      <td>-75.703675</td>\n",
              "      <td>5.661296</td>\n",
              "    </tr>\n",
              "    <tr>\n",
              "      <th>241</th>\n",
              "      <td>2</td>\n",
              "      <td>29</td>\n",
              "      <td>0</td>\n",
              "      <td>1</td>\n",
              "      <td>9</td>\n",
              "      <td>-75.703675</td>\n",
              "      <td>5.661296</td>\n",
              "    </tr>\n",
              "    <tr>\n",
              "      <th>251</th>\n",
              "      <td>5</td>\n",
              "      <td>9</td>\n",
              "      <td>1</td>\n",
              "      <td>2</td>\n",
              "      <td>9</td>\n",
              "      <td>-75.703675</td>\n",
              "      <td>5.661296</td>\n",
              "    </tr>\n",
              "    <tr>\n",
              "      <th>...</th>\n",
              "      <td>...</td>\n",
              "      <td>...</td>\n",
              "      <td>...</td>\n",
              "      <td>...</td>\n",
              "      <td>...</td>\n",
              "      <td>...</td>\n",
              "      <td>...</td>\n",
              "    </tr>\n",
              "    <tr>\n",
              "      <th>25053</th>\n",
              "      <td>4</td>\n",
              "      <td>7</td>\n",
              "      <td>0</td>\n",
              "      <td>0</td>\n",
              "      <td>9</td>\n",
              "      <td>-75.703675</td>\n",
              "      <td>5.661296</td>\n",
              "    </tr>\n",
              "    <tr>\n",
              "      <th>25172</th>\n",
              "      <td>1</td>\n",
              "      <td>17</td>\n",
              "      <td>0</td>\n",
              "      <td>5</td>\n",
              "      <td>10</td>\n",
              "      <td>-75.703675</td>\n",
              "      <td>5.661296</td>\n",
              "    </tr>\n",
              "    <tr>\n",
              "      <th>25223</th>\n",
              "      <td>8</td>\n",
              "      <td>17</td>\n",
              "      <td>1</td>\n",
              "      <td>3</td>\n",
              "      <td>9</td>\n",
              "      <td>-75.703675</td>\n",
              "      <td>5.661296</td>\n",
              "    </tr>\n",
              "    <tr>\n",
              "      <th>25354</th>\n",
              "      <td>10</td>\n",
              "      <td>17</td>\n",
              "      <td>1</td>\n",
              "      <td>5</td>\n",
              "      <td>10</td>\n",
              "      <td>-75.703675</td>\n",
              "      <td>5.661296</td>\n",
              "    </tr>\n",
              "    <tr>\n",
              "      <th>25365</th>\n",
              "      <td>9</td>\n",
              "      <td>24</td>\n",
              "      <td>1</td>\n",
              "      <td>5</td>\n",
              "      <td>10</td>\n",
              "      <td>-75.703675</td>\n",
              "      <td>5.661296</td>\n",
              "    </tr>\n",
              "  </tbody>\n",
              "</table>\n",
              "<p>403 rows × 7 columns</p>\n",
              "</div>"
            ],
            "text/plain": [
              "       HORA  DIA  GRAVEDAD  DIA_NOMBRE  MES   LONGITUD   LATITUD\n",
              "188       7   13         1           6    9 -75.703675  5.661296\n",
              "200       5    9         1           4   10 -75.703675  5.661296\n",
              "206       6    4         0           6   10 -75.703675  5.661296\n",
              "241       2   29         0           1    9 -75.703675  5.661296\n",
              "251       5    9         1           2    9 -75.703675  5.661296\n",
              "...     ...  ...       ...         ...  ...        ...       ...\n",
              "25053     4    7         0           0    9 -75.703675  5.661296\n",
              "25172     1   17         0           5   10 -75.703675  5.661296\n",
              "25223     8   17         1           3    9 -75.703675  5.661296\n",
              "25354    10   17         1           5   10 -75.703675  5.661296\n",
              "25365     9   24         1           5   10 -75.703675  5.661296\n",
              "\n",
              "[403 rows x 7 columns]"
            ]
          },
          "metadata": {
            "tags": []
          },
          "execution_count": 8
        }
      ]
    },
    {
      "cell_type": "code",
      "metadata": {
        "id": "doFIR8ff08y-",
        "outputId": "e0f17de5-2ebd-44fa-9dac-793095e68ce5",
        "colab": {
          "base_uri": "https://localhost:8080/",
          "height": 650
        }
      },
      "source": [
        "info = info.drop(np.where(info[\"LATITUD\"]==info[\"LATITUD\"].min())[0].tolist(), axis=0)\n",
        "info.plot(kind=\"scatter\", x=\"LONGITUD\", y=\"LATITUD\", figsize = (15,10))\n",
        "plt.title(\"Puntos de la base de datos\", fontsize = 20)\n",
        "plt.ylabel(\"latitud\", fontsize = 15)\n",
        "plt.xlabel(\"longitud\", fontsize = 15)"
      ],
      "execution_count": 9,
      "outputs": [
        {
          "output_type": "execute_result",
          "data": {
            "text/plain": [
              "Text(0.5, 0, 'longitud')"
            ]
          },
          "metadata": {
            "tags": []
          },
          "execution_count": 9
        },
        {
          "output_type": "display_data",
          "data": {
            "image/png": "[encoded data removed]",
            "text/plain": [
              "<Figure size 1080x720 with 1 Axes>"
            ]
          },
          "metadata": {
            "tags": [],
            "needs_background": "light"
          }
        }
      ]
    },
    {
      "cell_type": "code",
      "metadata": {
        "id": "3nuuJRBdsqpf"
      },
      "source": [
        "train_set, test_set = split_train_test(info, 0.2)"
      ],
      "execution_count": 10,
      "outputs": []
    },
    {
      "cell_type": "code",
      "metadata": {
        "id": "qh-JTiUJn8mg",
        "outputId": "8882503d-0e13-49de-f83b-29603ad4850f",
        "colab": {
          "base_uri": "https://localhost:8080/",
          "height": 407
        }
      },
      "source": [
        "train_set"
      ],
      "execution_count": 11,
      "outputs": [
        {
          "output_type": "execute_result",
          "data": {
            "text/html": [
              "<div>\n",
              "<style scoped>\n",
              "    .dataframe tbody tr th:only-of-type {\n",
              "        vertical-align: middle;\n",
              "    }\n",
              "\n",
              "    .dataframe tbody tr th {\n",
              "        vertical-align: top;\n",
              "    }\n",
              "\n",
              "    .dataframe thead th {\n",
              "        text-align: right;\n",
              "    }\n",
              "</style>\n",
              "<table border=\"1\" class=\"dataframe\">\n",
              "  <thead>\n",
              "    <tr style=\"text-align: right;\">\n",
              "      <th></th>\n",
              "      <th>HORA</th>\n",
              "      <th>DIA</th>\n",
              "      <th>GRAVEDAD</th>\n",
              "      <th>DIA_NOMBRE</th>\n",
              "      <th>MES</th>\n",
              "      <th>LONGITUD</th>\n",
              "      <th>LATITUD</th>\n",
              "    </tr>\n",
              "  </thead>\n",
              "  <tbody>\n",
              "    <tr>\n",
              "      <th>6378</th>\n",
              "      <td>3</td>\n",
              "      <td>27</td>\n",
              "      <td>1</td>\n",
              "      <td>1</td>\n",
              "      <td>10</td>\n",
              "      <td>-75.545935</td>\n",
              "      <td>6.294691</td>\n",
              "    </tr>\n",
              "    <tr>\n",
              "      <th>9309</th>\n",
              "      <td>8</td>\n",
              "      <td>11</td>\n",
              "      <td>1</td>\n",
              "      <td>1</td>\n",
              "      <td>2</td>\n",
              "      <td>-75.580270</td>\n",
              "      <td>6.273773</td>\n",
              "    </tr>\n",
              "    <tr>\n",
              "      <th>6766</th>\n",
              "      <td>5</td>\n",
              "      <td>1</td>\n",
              "      <td>0</td>\n",
              "      <td>5</td>\n",
              "      <td>2</td>\n",
              "      <td>-75.569971</td>\n",
              "      <td>6.231233</td>\n",
              "    </tr>\n",
              "    <tr>\n",
              "      <th>3261</th>\n",
              "      <td>7</td>\n",
              "      <td>15</td>\n",
              "      <td>0</td>\n",
              "      <td>2</td>\n",
              "      <td>7</td>\n",
              "      <td>-75.583441</td>\n",
              "      <td>6.289772</td>\n",
              "    </tr>\n",
              "    <tr>\n",
              "      <th>19516</th>\n",
              "      <td>6</td>\n",
              "      <td>10</td>\n",
              "      <td>0</td>\n",
              "      <td>4</td>\n",
              "      <td>1</td>\n",
              "      <td>-75.558688</td>\n",
              "      <td>6.247039</td>\n",
              "    </tr>\n",
              "    <tr>\n",
              "      <th>...</th>\n",
              "      <td>...</td>\n",
              "      <td>...</td>\n",
              "      <td>...</td>\n",
              "      <td>...</td>\n",
              "      <td>...</td>\n",
              "      <td>...</td>\n",
              "      <td>...</td>\n",
              "    </tr>\n",
              "    <tr>\n",
              "      <th>638</th>\n",
              "      <td>2</td>\n",
              "      <td>21</td>\n",
              "      <td>0</td>\n",
              "      <td>4</td>\n",
              "      <td>2</td>\n",
              "      <td>-75.580808</td>\n",
              "      <td>6.240133</td>\n",
              "    </tr>\n",
              "    <tr>\n",
              "      <th>2434</th>\n",
              "      <td>7</td>\n",
              "      <td>19</td>\n",
              "      <td>0</td>\n",
              "      <td>2</td>\n",
              "      <td>2</td>\n",
              "      <td>-75.590967</td>\n",
              "      <td>6.209577</td>\n",
              "    </tr>\n",
              "    <tr>\n",
              "      <th>23558</th>\n",
              "      <td>2</td>\n",
              "      <td>5</td>\n",
              "      <td>0</td>\n",
              "      <td>5</td>\n",
              "      <td>9</td>\n",
              "      <td>-75.557863</td>\n",
              "      <td>6.250970</td>\n",
              "    </tr>\n",
              "    <tr>\n",
              "      <th>11696</th>\n",
              "      <td>2</td>\n",
              "      <td>18</td>\n",
              "      <td>1</td>\n",
              "      <td>6</td>\n",
              "      <td>10</td>\n",
              "      <td>-75.600262</td>\n",
              "      <td>6.240803</td>\n",
              "    </tr>\n",
              "    <tr>\n",
              "      <th>6888</th>\n",
              "      <td>2</td>\n",
              "      <td>30</td>\n",
              "      <td>0</td>\n",
              "      <td>6</td>\n",
              "      <td>8</td>\n",
              "      <td>-75.553980</td>\n",
              "      <td>6.258074</td>\n",
              "    </tr>\n",
              "  </tbody>\n",
              "</table>\n",
              "<p>19981 rows × 7 columns</p>\n",
              "</div>"
            ],
            "text/plain": [
              "       HORA  DIA  GRAVEDAD  DIA_NOMBRE  MES   LONGITUD   LATITUD\n",
              "6378      3   27         1           1   10 -75.545935  6.294691\n",
              "9309      8   11         1           1    2 -75.580270  6.273773\n",
              "6766      5    1         0           5    2 -75.569971  6.231233\n",
              "3261      7   15         0           2    7 -75.583441  6.289772\n",
              "19516     6   10         0           4    1 -75.558688  6.247039\n",
              "...     ...  ...       ...         ...  ...        ...       ...\n",
              "638       2   21         0           4    2 -75.580808  6.240133\n",
              "2434      7   19         0           2    2 -75.590967  6.209577\n",
              "23558     2    5         0           5    9 -75.557863  6.250970\n",
              "11696     2   18         1           6   10 -75.600262  6.240803\n",
              "6888      2   30         0           6    8 -75.553980  6.258074\n",
              "\n",
              "[19981 rows x 7 columns]"
            ]
          },
          "metadata": {
            "tags": []
          },
          "execution_count": 11
        }
      ]
    },
    {
      "cell_type": "code",
      "metadata": {
        "id": "cD_q_wDy1D35",
        "outputId": "b91b8647-4646-4194-9d39-5819081b235d",
        "colab": {
          "base_uri": "https://localhost:8080/",
          "height": 138
        }
      },
      "source": [
        "info[187:190]"
      ],
      "execution_count": 12,
      "outputs": [
        {
          "output_type": "execute_result",
          "data": {
            "text/html": [
              "<div>\n",
              "<style scoped>\n",
              "    .dataframe tbody tr th:only-of-type {\n",
              "        vertical-align: middle;\n",
              "    }\n",
              "\n",
              "    .dataframe tbody tr th {\n",
              "        vertical-align: top;\n",
              "    }\n",
              "\n",
              "    .dataframe thead th {\n",
              "        text-align: right;\n",
              "    }\n",
              "</style>\n",
              "<table border=\"1\" class=\"dataframe\">\n",
              "  <thead>\n",
              "    <tr style=\"text-align: right;\">\n",
              "      <th></th>\n",
              "      <th>HORA</th>\n",
              "      <th>DIA</th>\n",
              "      <th>GRAVEDAD</th>\n",
              "      <th>DIA_NOMBRE</th>\n",
              "      <th>MES</th>\n",
              "      <th>LONGITUD</th>\n",
              "      <th>LATITUD</th>\n",
              "    </tr>\n",
              "  </thead>\n",
              "  <tbody>\n",
              "    <tr>\n",
              "      <th>187</th>\n",
              "      <td>12</td>\n",
              "      <td>4</td>\n",
              "      <td>0</td>\n",
              "      <td>5</td>\n",
              "      <td>1</td>\n",
              "      <td>-75.594908</td>\n",
              "      <td>6.262642</td>\n",
              "    </tr>\n",
              "    <tr>\n",
              "      <th>189</th>\n",
              "      <td>10</td>\n",
              "      <td>11</td>\n",
              "      <td>0</td>\n",
              "      <td>1</td>\n",
              "      <td>2</td>\n",
              "      <td>-75.566759</td>\n",
              "      <td>6.286774</td>\n",
              "    </tr>\n",
              "    <tr>\n",
              "      <th>190</th>\n",
              "      <td>8</td>\n",
              "      <td>23</td>\n",
              "      <td>1</td>\n",
              "      <td>2</td>\n",
              "      <td>9</td>\n",
              "      <td>-75.563876</td>\n",
              "      <td>6.307885</td>\n",
              "    </tr>\n",
              "  </tbody>\n",
              "</table>\n",
              "</div>"
            ],
            "text/plain": [
              "     HORA  DIA  GRAVEDAD  DIA_NOMBRE  MES   LONGITUD   LATITUD\n",
              "187    12    4         0           5    1 -75.594908  6.262642\n",
              "189    10   11         0           1    2 -75.566759  6.286774\n",
              "190     8   23         1           2    9 -75.563876  6.307885"
            ]
          },
          "metadata": {
            "tags": []
          },
          "execution_count": 12
        }
      ]
    },
    {
      "cell_type": "markdown",
      "metadata": {
        "id": "JkMkUA9AHAGN"
      },
      "source": [
        ""
      ]
    }
  ]
}